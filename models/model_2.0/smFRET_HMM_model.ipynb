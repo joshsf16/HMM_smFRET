{
 "cells": [
  {
   "attachments": {},
   "cell_type": "markdown",
   "metadata": {},
   "source": [
    "# HMM Model - Pytorch and FRET Analysis Enabled"
   ]
  },
  {
   "attachments": {},
   "cell_type": "markdown",
   "metadata": {},
   "source": [
    "## Step 0: Setup the environment"
   ]
  },
  {
   "attachments": {},
   "cell_type": "markdown",
   "metadata": {},
   "source": [
    "In this directory, I created a .py script named smFRET_HMM.py that holds our HMM class and all relevant functions (no training)."
   ]
  },
  {
   "cell_type": "code",
   "execution_count": 1,
   "metadata": {},
   "outputs": [
    {
     "name": "stderr",
     "output_type": "stream",
     "text": [
      "/Users/josh/opt/anaconda3/envs/HMM_venv/lib/python3.9/site-packages/tqdm/auto.py:22: TqdmWarning: IProgress not found. Please update jupyter and ipywidgets. See https://ipywidgets.readthedocs.io/en/stable/user_install.html\n",
      "  from .autonotebook import tqdm as notebook_tqdm\n",
      "/Users/josh/opt/anaconda3/envs/HMM_venv/lib/python3.9/site-packages/fretbursts/__init__.py:61: UserWarning:  - Cannot import QT, custom GUI widgets disabled.\n",
      "  warnings.warn((' - Cannot import QT, custom GUI widgets disabled.'))\n"
     ]
    },
    {
     "name": "stdout",
     "output_type": "stream",
     "text": [
      " - Fallback to pure python burst search.\n",
      " - Fallback to pure python photon counting.\n",
      "WARNING: QT not installed. No GUI scrolling available.\n",
      "--------------------------------------------------------------\n",
      " You are running FRETBursts (version 0.7+47.gc51b088).\n",
      "\n",
      " If you use this software please cite the following paper:\n",
      "\n",
      "   FRETBursts: An Open Source Toolkit for Analysis of Freely-Diffusing Single-Molecule FRET\n",
      "   Ingargiola et al. (2016). http://dx.doi.org/10.1371/journal.pone.0160716 \n",
      "\n",
      "--------------------------------------------------------------\n"
     ]
    }
   ],
   "source": [
    "import smFRET_HMM as Model\n",
    "import torch\n",
    "\n",
    "import os\n",
    "import numpy as np\n",
    "from matplotlib import pyplot as plt\n",
    "\n",
    "from fretbursts import *\n",
    "from H2MM_C import *\n",
    "\n",
    "from sklearn.model_selection import train_test_split"
   ]
  },
  {
   "attachments": {},
   "cell_type": "markdown",
   "metadata": {},
   "source": [
    "Let's go ahead and define the priors, transitions, and emissions matrices. Then, let's initialize our model."
   ]
  },
  {
   "cell_type": "code",
   "execution_count": 2,
   "metadata": {},
   "outputs": [
    {
     "name": "stdout",
     "output_type": "stream",
     "text": [
      "Parameter containing:\n",
      "tensor([[0.3000, 0.7000],\n",
      "        [0.5000, 0.5000]], requires_grad=True)\n",
      "Parameter containing:\n",
      "tensor([[1.0000e+00, 1.0000e-06],\n",
      "        [1.0000e-06, 1.0000e+00]], requires_grad=True)\n"
     ]
    }
   ],
   "source": [
    "## According to the FRET API tutorial, there 2 states 0 and 1, both with the same chance of being x_0.\n",
    "priors = [0.5,0.5]\n",
    "\n",
    "## With 2 states there are 4 transitions. A(i,j) denotes probability of transitioning from state j to state i\n",
    "## Usually there are numbers close to 1 along diagonal (the prob of not transitioning is higher) and close to 0 else.\n",
    "transitions = [[0.999999, 1e-6],\n",
    "                [1e-6, 0.999999]]\n",
    "\n",
    "observations = [[0.3, 0.7],\n",
    "                [0.5, 0.5]]\n",
    "## Note that it is 2D, with 2 states (rows) and 2 streams (columns)\n",
    "\n",
    "# Thus, we have the model:\n",
    "model = Model.HMM(transitions, observations, priors)\n",
    "print(model.unnormalized_emiss.matrix)\n",
    "print(model.unnormalized_trans.matrix)"
   ]
  },
  {
   "attachments": {},
   "cell_type": "markdown",
   "metadata": {},
   "source": [
    "## Step 1: Import the data"
   ]
  },
  {
   "attachments": {},
   "cell_type": "markdown",
   "metadata": {},
   "source": [
    "Run burst search on the raw data suppleid by the API tutorial. "
   ]
  },
  {
   "cell_type": "code",
   "execution_count": 3,
   "metadata": {},
   "outputs": [],
   "source": [
    "def data_sort(data,nchan=3,Aex_stream=2,Aex_shift=None,**kwargs):\n",
    "    usALEX = hasattr(data,'alex_period')\n",
    "    if usALEX:\n",
    "        if Aex_shift not in [None, 'shift', 'rand', 'even']:\n",
    "            raise ValueError(\"Aex_shift must be 'shift', 'rand', or 'even'\")\n",
    "    elif Aex_shift is not None:\n",
    "        raise ValueError(\"Aex_shift only valid for usALEX data\")\n",
    "    if (len(kwargs) == 0):\n",
    "        chan_sel = [Ph_sel(Dex='Dem'), Ph_sel(Dex='Aem'), Ph_sel(Aex='Aem'), Ph_sel(Aex='Dem')]\n",
    "        n = 4\n",
    "    else:\n",
    "        n = 1\n",
    "        chan_sel = []\n",
    "        while kwargs.get('ph_sel' + str(n)) != None:\n",
    "            chan_sel.append(kwargs.get('ph_sel' + str(n)))\n",
    "            n += 1\n",
    "        n += -1\n",
    "    print('Sorting photon channels',end='...')\n",
    "    chans = np.array([data.get_ph_mask(ph_sel=chan_sel[i]) for i in range(0,len(chan_sel))])\n",
    "    mask = chans.sum(axis=0)\n",
    "    if np.any(mask != 1):\n",
    "        print('Photon assigned to multiple channels or none, check ph_sel selections')\n",
    "        return None\n",
    "    ph_chan = np.zeros(chans.shape[1],dtype=int)\n",
    "    for i in range(0,len(chan_sel)):\n",
    "        ph_chan += i*chans[i,:]\n",
    "    ph_times = data.ph_times_m[0]\n",
    "    if not usALEX:\n",
    "        ph_nanotime = data.nanotimes[0]\n",
    "        ArrivalNanotime = []\n",
    "    burst = data.mburst[0]\n",
    "    ArrivalColor = []\n",
    "    ArrivalTime = []\n",
    "    print('Slicing data into bursts',end='...')\n",
    "    for start, stop in zip(burst.istart, burst.istop + 1):\n",
    "        ArrivalColor.append(ph_chan[start:stop][ph_chan[start:stop]<nchan])\n",
    "        ArrivalTime.append(ph_times[start:stop][ph_chan[start:stop]<nchan])\n",
    "        if not usALEX:\n",
    "            ArrivalNanotime.append(ph_nanotime[start:stop][ph_chan[start:stop]<nchan])\n",
    "    # apply a shift to usALEX AexAem photons, and make sure to re-sort the photons\n",
    "    if Aex_shift == 'shift' and Aex_stream < nchan:\n",
    "        print(\"Shifting Aex photons\",end='...')\n",
    "        alex_shift = data.D_ON[0] - data.A_ON[0]\n",
    "        for i, (color, time) in enumerate(zip(ArrivalColor,ArrivalTime)):\n",
    "            time[color==Aex_stream] += alex_shift\n",
    "            sort = np.argsort(time)\n",
    "            ArrivalColor[i] = color[sort]\n",
    "            ArrivalTime[i] = time[sort]\n",
    "    elif Aex_shift == 'rand' and Aex_stream < nchan:\n",
    "        print(\"Shift and randomizing Aex photons\",end='...')\n",
    "        D_ON, D_OFF = data.D_ON[0], data.D_ON[1]\n",
    "        for i, (color, time) in enumerate(zip(ArrivalColor, ArrivalTime)):\n",
    "            time_temp = time.copy()\n",
    "            alex_mask = color == Aex_stream\n",
    "            alex_new = np.random.randint(D_ON,D_OFF,size=alex_mask.sum())\n",
    "            time_temp[alex_mask] = alex_new + (time[alex_mask] // data.alex_period)*data.alex_period\n",
    "            sort = np.argsort(time_temp)\n",
    "            ArrivalColor[i] = color[sort].astype('uint8')\n",
    "            ArrivalTime[i] = time_temp[sort]\n",
    "    elif Aex_shift == 'even' and Aex_stream < nchan:\n",
    "        print(\"Distributing Aex photons\",end='...')\n",
    "        D_ON, D_OFF = data.D_ON[0], data.D_ON[1]\n",
    "        D_dur = D_OFF - D_ON\n",
    "        for i, (color, time) in enumerate(zip(ArrivalColor, ArrivalTime)):\n",
    "            Aex_mask = color == Aex_stream\n",
    "            tms, inverse, counts = np.unique(time[Aex_mask]//data.alex_period,return_counts=True,return_inverse=True)\n",
    "            newAex_times = np.empty(inverse.shape,dtype=time.dtype)\n",
    "            for j, (tm, count) in enumerate(zip(tms,counts)):\n",
    "                t_beg = tm*data.alex_period + D_ON + D_dur/(count+1)\n",
    "                t_end = tm*data.alex_period + D_OFF\n",
    "                newAex_times[j==inverse] = np.arange(t_beg,t_end,D_dur/(count+1))[:count]\n",
    "            time_new = time.copy()\n",
    "            time_new[Aex_mask] = newAex_times\n",
    "            sort = np.argsort(time_new)\n",
    "            ArrivalColor[i] = color[sort].astype('uint8')\n",
    "            ArrivalTime[i] = time_new[sort]\n",
    "    print('Done')\n",
    "    if usALEX:\n",
    "        return ArrivalColor, ArrivalTime\n",
    "    else:\n",
    "        return ArrivalColor, ArrivalTime , ArrivalNanotime"
   ]
  },
  {
   "cell_type": "code",
   "execution_count": 4,
   "metadata": {},
   "outputs": [
    {
     "name": "stdout",
     "output_type": "stream",
     "text": [
      "# Total photons (after ALEX selection):    23,542,014\n",
      "#  D  photons in D+A excitation periods:    7,271,909\n",
      "#  A  photons in D+A excitation periods:   16,270,105\n",
      "# D+A photons in  D  excitation period:    11,826,619\n",
      "# D+A photons in  A  excitation period:    11,715,395\n",
      "\n",
      " - Calculating BG rates ... Channel 0\n",
      "[DONE]\n",
      " - Performing burst search (verbose=False) ...[DONE]\n",
      " - Calculating burst periods ...[DONE]\n",
      " - Counting D and A ph and calculating FRET ... \n",
      "   - Applying background correction.\n",
      "   [DONE Counting D/A]\n",
      " - - - - - CHANNEL  1 - - - - \n",
      " --> END Fused 136948 bursts (38.2%, 20 iter)\n",
      "\n",
      " - Counting D and A ph and calculating FRET ... \n",
      "   - Applying background correction.\n",
      "   [DONE Counting D/A and FRET]\n",
      "Sorting photon channels...Slicing data into bursts...Done\n"
     ]
    }
   ],
   "source": [
    "data = loader.photon_hdf5(\"h2mm_api_tutorial/033HP3_T25C_300mM_NaCl_2.hdf5\")\n",
    "loader.alex_apply_period(data)\n",
    "data.calc_bg(fun=bg.exp_fit,time_s=30, tail_min_us='auto', F_bg=1.7)\n",
    "data.burst_search(m=10,F=6)\n",
    "data.fuse_bursts(ms=0)\n",
    "data = Sel(data,select_bursts.size,add_naa=True,th1=50)\n",
    "data = Sel(data,select_bursts.size,th1=30)\n",
    "\n",
    "color, times = data_sort(data,nchan=2)"
   ]
  },
  {
   "cell_type": "code",
   "execution_count": 5,
   "metadata": {},
   "outputs": [],
   "source": [
    "emissions = [list(elem) for elem in color]\n",
    "train_lines, test_lines = train_test_split(emissions, random_state=42)\n",
    "\n",
    "train_dataset = Model.PhotonDataset(train_lines)\n",
    "test_dataset = Model.PhotonDataset(test_lines)\n",
    "\n",
    "trainer = Model.Trainer(model, lr=0.01)"
   ]
  },
  {
   "cell_type": "code",
   "execution_count": 6,
   "metadata": {},
   "outputs": [
    {
     "name": "stdout",
     "output_type": "stream",
     "text": [
      "========= Epoch 1 of 10 =========\n"
     ]
    },
    {
     "name": "stderr",
     "output_type": "stream",
     "text": [
      "100%|██████████| 15/15 [00:00<00:00, 21.25it/s]\n"
     ]
    },
    {
     "name": "stdout",
     "output_type": "stream",
     "text": [
      "========= Results: epoch 1 of 10 =========\n",
      "train loss: -0.00| valid loss: 0.00\n",
      "\n",
      "========= Epoch 2 of 10 =========\n"
     ]
    },
    {
     "name": "stderr",
     "output_type": "stream",
     "text": [
      "100%|██████████| 15/15 [00:00<00:00, 15.99it/s]\n"
     ]
    },
    {
     "name": "stdout",
     "output_type": "stream",
     "text": [
      "========= Results: epoch 2 of 10 =========\n",
      "train loss: 0.00| valid loss: 0.00\n",
      "\n",
      "========= Epoch 3 of 10 =========\n"
     ]
    },
    {
     "name": "stderr",
     "output_type": "stream",
     "text": [
      "100%|██████████| 15/15 [00:00<00:00, 16.02it/s]\n"
     ]
    },
    {
     "name": "stdout",
     "output_type": "stream",
     "text": [
      "========= Results: epoch 3 of 10 =========\n",
      "train loss: 0.00| valid loss: 0.00\n",
      "\n",
      "========= Epoch 4 of 10 =========\n"
     ]
    },
    {
     "name": "stderr",
     "output_type": "stream",
     "text": [
      "100%|██████████| 15/15 [00:00<00:00, 15.92it/s]\n"
     ]
    },
    {
     "name": "stdout",
     "output_type": "stream",
     "text": [
      "========= Results: epoch 4 of 10 =========\n",
      "train loss: 0.00| valid loss: 0.00\n",
      "\n",
      "========= Epoch 5 of 10 =========\n"
     ]
    },
    {
     "name": "stderr",
     "output_type": "stream",
     "text": [
      "100%|██████████| 15/15 [00:00<00:00, 15.97it/s]\n"
     ]
    },
    {
     "name": "stdout",
     "output_type": "stream",
     "text": [
      "========= Results: epoch 5 of 10 =========\n",
      "train loss: 0.00| valid loss: 0.00\n",
      "\n",
      "========= Epoch 6 of 10 =========\n"
     ]
    },
    {
     "name": "stderr",
     "output_type": "stream",
     "text": [
      "100%|██████████| 15/15 [00:00<00:00, 15.89it/s]\n"
     ]
    },
    {
     "name": "stdout",
     "output_type": "stream",
     "text": [
      "========= Results: epoch 6 of 10 =========\n",
      "train loss: 0.00| valid loss: 0.00\n",
      "\n",
      "========= Epoch 7 of 10 =========\n"
     ]
    },
    {
     "name": "stderr",
     "output_type": "stream",
     "text": [
      "100%|██████████| 15/15 [00:00<00:00, 15.77it/s]\n"
     ]
    },
    {
     "name": "stdout",
     "output_type": "stream",
     "text": [
      "========= Results: epoch 7 of 10 =========\n",
      "train loss: 0.00| valid loss: 0.00\n",
      "\n",
      "========= Epoch 8 of 10 =========\n"
     ]
    },
    {
     "name": "stderr",
     "output_type": "stream",
     "text": [
      "100%|██████████| 15/15 [00:00<00:00, 15.93it/s]\n"
     ]
    },
    {
     "name": "stdout",
     "output_type": "stream",
     "text": [
      "========= Results: epoch 8 of 10 =========\n",
      "train loss: 0.00| valid loss: 0.00\n",
      "\n",
      "========= Epoch 9 of 10 =========\n"
     ]
    },
    {
     "name": "stderr",
     "output_type": "stream",
     "text": [
      "100%|██████████| 15/15 [00:00<00:00, 15.85it/s]\n"
     ]
    },
    {
     "name": "stdout",
     "output_type": "stream",
     "text": [
      "========= Results: epoch 9 of 10 =========\n",
      "train loss: 0.00| valid loss: 0.00\n",
      "\n",
      "========= Epoch 10 of 10 =========\n"
     ]
    },
    {
     "name": "stderr",
     "output_type": "stream",
     "text": [
      "100%|██████████| 15/15 [00:00<00:00, 15.97it/s]\n"
     ]
    },
    {
     "name": "stdout",
     "output_type": "stream",
     "text": [
      "========= Results: epoch 10 of 10 =========\n",
      "train loss: 0.00| valid loss: 0.00\n",
      "\n"
     ]
    }
   ],
   "source": [
    "for epoch in range(10):\n",
    "        print(\"========= Epoch %d of %d =========\" % (epoch+1, 10))\n",
    "        train_loss = trainer.train(train_dataset)\n",
    "        valid_loss = trainer.test(train_dataset)\n",
    "\n",
    "        print(\"========= Results: epoch %d of %d =========\" % (epoch+1, 10))\n",
    "        print(\"train loss: %.2f| valid loss: %.2f\\n\" % (train_loss, valid_loss) )"
   ]
  },
  {
   "cell_type": "code",
   "execution_count": 7,
   "metadata": {},
   "outputs": [
    {
     "name": "stdout",
     "output_type": "stream",
     "text": [
      "Parameter containing:\n",
      "tensor([[ 9.0045e-01, -1.6913e-05],\n",
      "        [-2.1985e-05,  9.0045e-01]], requires_grad=True)\n",
      "Parameter containing:\n",
      "tensor([[0.2018, 0.6007],\n",
      "        [0.4010, 0.4010]], requires_grad=True)\n"
     ]
    }
   ],
   "source": [
    "print(model.unnormalized_trans.matrix)\n",
    "print(model.unnormalized_emiss.matrix)"
   ]
  }
 ],
 "metadata": {
  "kernelspec": {
   "display_name": "HMM_venv",
   "language": "python",
   "name": "python3"
  },
  "language_info": {
   "codemirror_mode": {
    "name": "ipython",
    "version": 3
   },
   "file_extension": ".py",
   "mimetype": "text/x-python",
   "name": "python",
   "nbconvert_exporter": "python",
   "pygments_lexer": "ipython3",
   "version": "3.9.16"
  },
  "orig_nbformat": 4,
  "vscode": {
   "interpreter": {
    "hash": "9d622ee3689cd504a23a24f27e6646d1b829f6dc3a0c1c0a17cc9f259ab39791"
   }
  }
 },
 "nbformat": 4,
 "nbformat_minor": 2
}
